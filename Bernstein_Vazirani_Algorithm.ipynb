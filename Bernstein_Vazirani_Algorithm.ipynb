{
  "nbformat": 4,
  "nbformat_minor": 0,
  "metadata": {
    "colab": {
      "provenance": [],
      "authorship_tag": "ABX9TyOtbQ7cEWwjd2e8V9MW83v0",
      "include_colab_link": true
    },
    "kernelspec": {
      "name": "python3",
      "display_name": "Python 3"
    },
    "language_info": {
      "name": "python"
    }
  },
  "cells": [
    {
      "cell_type": "markdown",
      "metadata": {
        "id": "view-in-github",
        "colab_type": "text"
      },
      "source": [
        "<a href=\"https://colab.research.google.com/github/Etiene-vc/Quantum-computing/blob/main/Bernstein_Vazirani_Algorithm.ipynb\" target=\"_parent\"><img src=\"https://colab.research.google.com/assets/colab-badge.svg\" alt=\"Open In Colab\"/></a>"
      ]
    },
    {
      "cell_type": "markdown",
      "source": [
        "Instalação do Qiskit.\n"
      ],
      "metadata": {
        "id": "05TtsR_rAzXr"
      }
    },
    {
      "cell_type": "code",
      "execution_count": null,
      "metadata": {
        "id": "bDT4SBTU-87_"
      },
      "outputs": [],
      "source": [
        "!pip install qiskit"
      ]
    },
    {
      "cell_type": "code",
      "source": [
        "from qiskit import QuantumCircuit, transpile\n",
        "from qiskit_aer import AerSimulator\n",
        "import numpy as np\n",
        "\n",
        "def oracle(s):\n",
        "    \"\"\"\n",
        "    Cria o circuito do oráculo para a string secreta 's'.\n",
        "\n",
        "    Args:\n",
        "        s (str): A string secreta binária (ex: '10110').\n",
        "\n",
        "    Returns:\n",
        "        QuantumCircuit: O circuito do oráculo.\n",
        "    \"\"\"\n",
        "    n = len(s)\n",
        "    qc = QuantumCircuit(n+1) # n qubits para a entrada + 1 qubit auxiliar\n",
        "\n",
        "    # Itera sobre cada bit da string secreta\n",
        "    for i in range(n):\n",
        "        if s[i] == '1':\n",
        "            qc.cx(i, n) # Aplica uma porta CNOT controlada pelo i-ésimo qubit, afetando o qubit auxiliar\n",
        "\n",
        "    return qc\n",
        "\n",
        "def bernstein_vazirani(n, s):\n",
        "    \"\"\"\n",
        "    Implementa o algoritmo de Bernstein-Vazirani.\n",
        "\n",
        "    Args:\n",
        "        n (int): O número de qubits.\n",
        "        s (str): A string secreta binária.\n",
        "\n",
        "    Returns:\n",
        "        str: A string secreta medida.\n",
        "    \"\"\"\n",
        "    qc = QuantumCircuit(n+1, n) # n qubits para entrada, 1 qubit auxiliar, n bits clássicos para medição\n",
        "\n",
        "    # Inicialização: Superposição nos qubits de entrada e |1⟩ no qubit auxiliar\n",
        "    qc.h(range(n)) # Aplica portas Hadamard a todos os qubits de entrada\n",
        "    qc.x(n)       # Coloca o qubit auxiliar no estado |1⟩\n",
        "    qc.h(n)       # Aplica porta Hadamard ao qubit auxiliar\n",
        "\n",
        "    # Oráculo: Aplica o circuito do oráculo\n",
        "    qc.append(oracle(s), range(n+1))\n",
        "\n",
        "    # Transformada de Hadamard: Aplica portas Hadamard novamente nos qubits de entrada\n",
        "    qc.h(range(n))\n",
        "\n",
        "    # Medição: Mede os qubits de entrada\n",
        "    qc.measure(range(n), range(n))\n",
        "\n",
        "\n",
        "    simulator = AerSimulator()\n",
        "    compiled_circuit = transpile(qc, simulator, optimization_level=3) # otimização de circuito\n",
        "    job = simulator.run(compiled_circuit, shots=1) # Executa com 1 shot (suficiente para o algoritmo)\n",
        "    result = job.result()\n",
        "    counts = result.get_counts(0) # Obtém os resultados da medição\n",
        "    measured_s = list(counts.keys())[0] # Extrai a string medida da chave do dicionário\n",
        "\n",
        "    return measured_s\n",
        "\n",
        "\n",
        "# Exemplo de uso\n",
        "n = 5\n",
        "s = '10110'\n",
        "measured_s = bernstein_vazirani(n, s)\n",
        "print(f\"String secreta: {s}\")\n",
        "print(f\"String medida: {measured_s}\")\n",
        "\n",
        "if measured_s == s:\n",
        "    print(\"O algoritmo funcionou corretamente!\")\n",
        "else:\n",
        "    print(\"O algoritmo falhou!\")"
      ],
      "metadata": {
        "colab": {
          "base_uri": "https://localhost:8080/"
        },
        "id": "8qOJ8sKKLWx1",
        "outputId": "a060f884-d0c1-4569-dcad-5e626aea71a8"
      },
      "execution_count": 15,
      "outputs": [
        {
          "output_type": "stream",
          "name": "stdout",
          "text": [
            "String secreta: 10110\n",
            "String medida: 01101\n",
            "O algoritmo falhou!\n"
          ]
        }
      ]
    }
  ]
}