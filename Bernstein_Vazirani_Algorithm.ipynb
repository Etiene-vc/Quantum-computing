{
  "nbformat": 4,
  "nbformat_minor": 0,
  "metadata": {
    "colab": {
      "provenance": [],
      "authorship_tag": "ABX9TyMY4R+x7qkHRyR1ynEabymx",
      "include_colab_link": true
    },
    "kernelspec": {
      "name": "python3",
      "display_name": "Python 3"
    },
    "language_info": {
      "name": "python"
    }
  },
  "cells": [
    {
      "cell_type": "markdown",
      "metadata": {
        "id": "view-in-github",
        "colab_type": "text"
      },
      "source": [
        "<a href=\"https://colab.research.google.com/github/Etiene-vc/Quantum-computing/blob/main/Bernstein_Vazirani_Algorithm.ipynb\" target=\"_parent\"><img src=\"https://colab.research.google.com/assets/colab-badge.svg\" alt=\"Open In Colab\"/></a>"
      ]
    },
    {
      "cell_type": "markdown",
      "source": [
        "O algoritmo de Bernstein-Vazirani determina eficientemente uma string binária secreta de n bits com apenas uma consulta a uma função oráculo que calcula o produto interno da string secreta e uma string de entrada."
      ],
      "metadata": {
        "id": "bbLgeLUzUBMT"
      }
    },
    {
      "cell_type": "markdown",
      "source": [
        "Para testar o código do Algoritmo de Bernstein-Vazirani com diferentes parâmetros, você precisa modificar apenas duas variáveis:\n",
        "\n",
        "n (número de qubits): Altere o valor inteiro de n para ajustar o tamanho da string secreta. Um valor maior de n significa uma string secreta mais longa e um circuito quântico maior.\n",
        "\n",
        "s (string secreta): Altere a string binária s para testar com diferentes strings secretas. Certifique-se de que o comprimento da string s corresponda ao valor de n (tamanho da string = número de qubits)."
      ],
      "metadata": {
        "id": "ggVRzkqLXJ9i"
      }
    },
    {
      "cell_type": "code",
      "execution_count": null,
      "metadata": {
        "id": "bDT4SBTU-87_"
      },
      "outputs": [],
      "source": [
        "!pip install qiskit"
      ]
    },
    {
      "cell_type": "code",
      "source": [
        "\n",
        "\n",
        "\n",
        "from qiskit_aer import AerSimulator\n",
        "import numpy as np\n",
        "\n",
        "def oracle(s):\n",
        "    \"\"\"\n",
        "    Cria o circuito do oráculo para a string secreta 's'.\n",
        "\n",
        "    Args:\n",
        "        s (str): A string secreta binária (ex: '10110').\n",
        "\n",
        "    Returns:\n",
        "        QuantumCircuit: O circuito do oráculo.\n",
        "    \"\"\"\n",
        "    n = len(s)\n",
        "    qc = QuantumCircuit(n+1) # n qubits para a entrada + 1 qubit auxiliar\n",
        "\n",
        "    # Itera sobre cada bit da string secreta\n",
        "    for i in range(n):\n",
        "        if s[i] == '1':\n",
        "            qc.cx(i, n) # Aplica uma porta CNOT controlada pelo i-ésimo qubit, afetando o qubit auxiliar\n",
        "\n",
        "    return qc\n",
        "\n",
        "def bernstein_vazirani(n, s):\n",
        "    \"\"\"\n",
        "    Implementa o algoritmo de Bernstein-Vazirani.\n",
        "\n",
        "    Args:\n",
        "        n (int): O número de qubits.\n",
        "        s (str): A string secreta binária.\n",
        "\n",
        "    Returns:\n",
        "        str: A string secreta medida.\n",
        "    \"\"\"\n",
        "    qc = QuantumCircuit(n+1, n) # n qubits para entrada, 1 qubit auxiliar, n bits clássicos para medição\n",
        "\n",
        "    # Inicialização: Superposição nos qubits de entrada e |1⟩ no qubit auxiliar\n",
        "    qc.h(range(n)) # Aplica portas Hadamard a todos os qubits de entrada\n",
        "    qc.x(n)       # Coloca o qubit auxiliar no estado |1⟩\n",
        "    qc.h(n)       # Aplica porta Hadamard ao qubit auxiliar\n",
        "\n",
        "    # Oráculo: Aplica o circuito do oráculo\n",
        "    qc.append(oracle(s), range(n+1))\n",
        "\n",
        "    # Transformada de Hadamard: Aplica portas Hadamard novamente nos qubits de entrada\n",
        "    qc.h(range(n))\n",
        "\n",
        "    # Medição: Mede os qubits de entrada\n",
        "    qc.measure(range(n), range(n))\n",
        "\n",
        "\n",
        "    simulator = AerSimulator()\n",
        "    compiled_circuit = transpile(qc, simulator, optimization_level=3) # otimização de circuito\n",
        "    job = simulator.run(compiled_circuit, shots=1) # Executa com 1 shot (suficiente para o algoritmo)\n",
        "    result = job.result()\n",
        "    counts = result.get_counts(0) # Obtém os resultados da medição\n",
        "    measured_s = list(counts.keys())[0] # Extrai a string medida da chave do dicionário\n",
        "\n",
        "    return measured_s\n",
        "\n",
        "\n",
        "# Exemplo de uso\n",
        "n = 7\n",
        "s = '0000111'\n",
        "measured_s = bernstein_vazirani(n, s)\n",
        "print(f\"String secreta: {s}\")\n",
        "print(f\"String medida: {measured_s}\")\n",
        "\n",
        "if measured_s == s:\n",
        "    print(\"O algoritmo funcionou corretamente!\")\n",
        "else:\n",
        "    print(\"O algoritmo falhou!\")"
      ],
      "metadata": {
        "colab": {
          "base_uri": "https://localhost:8080/"
        },
        "id": "8qOJ8sKKLWx1",
        "outputId": "7dc820fe-cc6e-40d3-8823-05fdecd6936c"
      },
      "execution_count": 17,
      "outputs": [
        {
          "output_type": "stream",
          "name": "stdout",
          "text": [
            "String secreta: 0000111\n",
            "String medida: 1110000\n",
            "O algoritmo falhou!\n"
          ]
        }
      ]
    },
    {
      "cell_type": "markdown",
      "source": [
        "Este código inclui:\n",
        "\n",
        "Função oracle(s): Esta função cria o circuito quântico que representa a função oráculo. A lógica condicional com if s[i] == '1' implementa a função oráculo que calcula o produto escalar entre a entrada e a string secreta (módulo 2).\n",
        "\n",
        "Função bernstein_vazirani(n, s): Esta função implementa o algoritmo completo. Ela inclui a preparação do estado inicial (superposição), a chamada ao oráculo, a transformada de Hadamard e a medição final. O nível de otimização foi aumentado para optimization_level=3 para melhorar o desempenho da simulação.\n",
        "\n",
        "Exemplo de uso: A parte final demonstra como usar as funções para executar o algoritmo com uma string secreta de exemplo. A verificação final agora é uma comparação direta entre a string secreta e a string medida."
      ],
      "metadata": {
        "id": "URjj_ZeKUrX1"
      }
    },
    {
      "cell_type": "markdown",
      "source": [
        "Esse circuito quântico implementa o Algoritmo de Bernstein-Vazirani para uma string secreta de três bits. Vamos analisar cada parte:\n",
        "\n",
        "1. Inicialização:\n",
        "\n",
        "Portas H (Hadamard): As portas H em q0, q1, e q2 colocam esses qubits em superposição. Cada qubit agora está em um estado que é uma combinação linear de |0⟩ e |1⟩. Isso permite que o algoritmo explore todas as possíveis strings de entrada simultaneamente.\n",
        "\n",
        "Porta Z: A porta Z em q3 inverte a fase do estado |1⟩ desse qubit, o que é uma parte crucial da implementação do oráculo.\n",
        "\n",
        "2. Oráculo:\n",
        "\n",
        "Portas CNOT: As portas CNOT (controladas-NOT) implementam a função oráculo. Observe que as portas CNOT são controladas pelos qubits q0, q1, e q2, e suas operações impactam o qubit q3. A presença ou ausência de uma porta CNOT para cada qubit qi depende do i-ésimo bit da string secreta. Se o i-ésimo bit da string secreta for '1', então a porta CNOT está presente e o qubit auxiliar (q3) é alterado.\n",
        "\n",
        "3. Transformada de Hadamard:\n",
        "\n",
        "Portas H (Hadamard): Novamente, as portas H são aplicadas aos qubits q0, q1 e q2 após a interação com o oráculo. Esta segunda aplicação da transformada de Hadamard é crucial para decodificar a informação sobre a string secreta que foi \"escrita\" no qubit auxiliar.\n",
        "\n",
        "4. Medição:\n",
        "\n",
        "Portas de Medição: Os qubits q0, q1 e q2 são medidos. Os resultados da medição fornecem a string secreta.\n",
        "\n",
        "Em resumo:\n",
        "\n",
        "O algoritmo usa superposição e interferência quântica para calcular o produto interno (módulo 2) entre a string de entrada e a string secreta em uma única etapa. A transformada de Hadamard permite que a informação sobre a string secreta seja extraída da interferência dos estados. O resultado da medição final revela a string secreta. A porta Z no qubit auxiliar e a escolha cuidadosa de portas CNOT no oráculo garantem que essa informação seja codificada e recuperada de forma eficiente.\n",
        "\n",
        "Interpretação da saída:\n",
        "\n",
        "A saída do circuito (os bits medidos em q0, q1, e q2) corresponderão diretamente à string secreta. Não há necessidade de inversão ou outras operações na saída neste caso particular, pois já estamos considerando a implementação específica do oráculo."
      ],
      "metadata": {
        "id": "_nd0LrWiVrTC"
      }
    },
    {
      "cell_type": "markdown",
      "source": [
        "     q0:  ---H---[Oráculo]---H---M---C0\n",
        "     q1:  ---H---[Oráculo]---H---M---C1\n",
        "     q2:  ---H---[Oráculo]---H---M---C2\n",
        "     q3:  ---H---Z---[Oráculo]---------\n",
        "             |     |       |\n",
        "             |     |       |\n",
        "             CNOT CNOT  CNOT (dependendo da string secreta)"
      ],
      "metadata": {
        "id": "rZk7K_cZWH9X"
      }
    }
  ]
}